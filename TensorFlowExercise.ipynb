{
  "nbformat": 4,
  "nbformat_minor": 0,
  "metadata": {
    "colab": {
      "provenance": []
    },
    "kernelspec": {
      "name": "python3",
      "display_name": "Python 3"
    },
    "language_info": {
      "name": "python"
    }
  },
  "cells": [
    {
      "cell_type": "code",
      "execution_count": null,
      "metadata": {
        "colab": {
          "base_uri": "https://localhost:8080/"
        },
        "id": "-8UgCOtTB4Ae",
        "outputId": "66d63d48-f1f0-4dbc-8364-0299b7009d5f"
      },
      "outputs": [
        {
          "output_type": "stream",
          "name": "stdout",
          "text": [
            "Your Tensor Flow Version: 2.11.0\n"
          ]
        }
      ],
      "source": [
        "import tensorflow as tf\n",
        "print(('Your Tensor Flow Version: {0}').format(tf.__version__))"
      ]
    },
    {
      "cell_type": "code",
      "source": [
        "#Create a constant tensor A\n",
        "A = tf.constant([[4,3],\n",
        "                 [6,1]])\n",
        "A"
      ],
      "metadata": {
        "colab": {
          "base_uri": "https://localhost:8080/"
        },
        "id": "CG6mWVNHCTEM",
        "outputId": "f708134a-321f-453d-e0ba-ea609de11549"
      },
      "execution_count": null,
      "outputs": [
        {
          "output_type": "execute_result",
          "data": {
            "text/plain": [
              "<tf.Tensor: shape=(2, 2), dtype=int32, numpy=\n",
              "array([[4, 3],\n",
              "       [6, 1]], dtype=int32)>"
            ]
          },
          "metadata": {},
          "execution_count": 3
        }
      ]
    },
    {
      "cell_type": "code",
      "source": [
        "#Create a constant tensor V\n",
        "V = tf.constant([[3,1],\n",
        "                 [5,2]])\n",
        "V\n",
        "B = tf.constant([[7,8],\n",
        "                 [4,5]])\n",
        "B"
      ],
      "metadata": {
        "colab": {
          "base_uri": "https://localhost:8080/"
        },
        "id": "tYflfb52Cpdc",
        "outputId": "c229823c-5013-461d-b43d-e486d1788bca"
      },
      "execution_count": null,
      "outputs": [
        {
          "output_type": "execute_result",
          "data": {
            "text/plain": [
              "<tf.Tensor: shape=(2, 2), dtype=int32, numpy=\n",
              "array([[7, 8],\n",
              "       [4, 5]], dtype=int32)>"
            ]
          },
          "metadata": {},
          "execution_count": 4
        }
      ]
    },
    {
      "cell_type": "code",
      "source": [
        "#Concatenate columns\n",
        "AB_concatenated = tf.concat(values=[A,B],axis=1)\n",
        "AB_concatenated"
      ],
      "metadata": {
        "colab": {
          "base_uri": "https://localhost:8080/"
        },
        "id": "gcmPy-99DCAj",
        "outputId": "761f88e7-92b4-4a60-b4bb-12de392cf79f"
      },
      "execution_count": null,
      "outputs": [
        {
          "output_type": "execute_result",
          "data": {
            "text/plain": [
              "<tf.Tensor: shape=(2, 4), dtype=int32, numpy=\n",
              "array([[4, 3, 7, 8],\n",
              "       [6, 1, 4, 5]], dtype=int32)>"
            ]
          },
          "metadata": {},
          "execution_count": 5
        }
      ]
    },
    {
      "cell_type": "code",
      "source": [
        "#Concatenate rows\n",
        "AB_concatenated = tf.concat(values=[A,B],axis=0)\n",
        "AB_concatenated"
      ],
      "metadata": {
        "colab": {
          "base_uri": "https://localhost:8080/"
        },
        "id": "CseBFQacDctl",
        "outputId": "021e988f-e057-4ee2-d47d-191031e4dfb7"
      },
      "execution_count": null,
      "outputs": [
        {
          "output_type": "execute_result",
          "data": {
            "text/plain": [
              "<tf.Tensor: shape=(4, 2), dtype=int32, numpy=\n",
              "array([[4, 3],\n",
              "       [6, 1],\n",
              "       [7, 8],\n",
              "       [4, 5]], dtype=int32)>"
            ]
          },
          "metadata": {},
          "execution_count": 6
        }
      ]
    },
    {
      "cell_type": "code",
      "source": [
        "tensor = tf.zeros(shape=[3,4],dtype=tf.int32)\n",
        "tensor"
      ],
      "metadata": {
        "colab": {
          "base_uri": "https://localhost:8080/"
        },
        "id": "mS0oRlUvEla0",
        "outputId": "f557b343-9a65-41aa-b418-69ef97d1f038"
      },
      "execution_count": null,
      "outputs": [
        {
          "output_type": "execute_result",
          "data": {
            "text/plain": [
              "<tf.Tensor: shape=(3, 4), dtype=int32, numpy=\n",
              "array([[0, 0, 0, 0],\n",
              "       [0, 0, 0, 0],\n",
              "       [0, 0, 0, 0]], dtype=int32)>"
            ]
          },
          "metadata": {},
          "execution_count": 7
        }
      ]
    },
    {
      "cell_type": "code",
      "source": [
        "tensor1 = tf.ones(shape=[3,4],dtype=tf.int32)\n",
        "tensor1"
      ],
      "metadata": {
        "colab": {
          "base_uri": "https://localhost:8080/"
        },
        "id": "ljJvwYmHEvzR",
        "outputId": "29c952c3-8c44-4df4-8a36-e85e5d414336"
      },
      "execution_count": null,
      "outputs": [
        {
          "output_type": "execute_result",
          "data": {
            "text/plain": [
              "<tf.Tensor: shape=(3, 4), dtype=int32, numpy=\n",
              "array([[1, 1, 1, 1],\n",
              "       [1, 1, 1, 1],\n",
              "       [1, 1, 1, 1]], dtype=int32)>"
            ]
          },
          "metadata": {},
          "execution_count": 8
        }
      ]
    },
    {
      "cell_type": "code",
      "source": [
        "reshaped_tensor = tf.reshape(tensor=tensor,shape=[4,3])\n",
        "reshaped_tensor"
      ],
      "metadata": {
        "colab": {
          "base_uri": "https://localhost:8080/"
        },
        "id": "FOXWhXPTFPrx",
        "outputId": "596f1630-f130-4f5c-a479-314341b1ec7c"
      },
      "execution_count": null,
      "outputs": [
        {
          "output_type": "execute_result",
          "data": {
            "text/plain": [
              "<tf.Tensor: shape=(4, 3), dtype=int32, numpy=\n",
              "array([[0, 0, 0],\n",
              "       [0, 0, 0],\n",
              "       [0, 0, 0],\n",
              "       [0, 0, 0]], dtype=int32)>"
            ]
          },
          "metadata": {},
          "execution_count": 9
        }
      ]
    },
    {
      "cell_type": "code",
      "source": [
        "#uniform\n",
        "uniform_tensor = tf.random.uniform(shape=[4,3],dtype=tf.float32)\n",
        "uniform_tensor"
      ],
      "metadata": {
        "colab": {
          "base_uri": "https://localhost:8080/"
        },
        "id": "Siwtg4y_FtJ3",
        "outputId": "76d5e05a-bd3b-49dd-df71-9131a44cc9ee"
      },
      "execution_count": null,
      "outputs": [
        {
          "output_type": "execute_result",
          "data": {
            "text/plain": [
              "<tf.Tensor: shape=(4, 3), dtype=float32, numpy=\n",
              "array([[0.32470763, 0.3116157 , 0.05165792],\n",
              "       [0.41537082, 0.7554729 , 0.09230936],\n",
              "       [0.40398657, 0.03941035, 0.4686823 ],\n",
              "       [0.37952638, 0.441949  , 0.16438723]], dtype=float32)>"
            ]
          },
          "metadata": {},
          "execution_count": 10
        }
      ]
    },
    {
      "cell_type": "code",
      "source": [
        "#Typecast a tensor\n",
        "tensor = tf.constant([[4.6,4.2],\n",
        "                       [7.5,3.6],\n",
        "                       [2.7,9.4],\n",
        "                       [2.7,9.4]],\n",
        "                     dtype=tf.float32)\n",
        "tensor_as_int = tf.cast(tensor,tf.int32)\n",
        "print(tensor_as_int)"
      ],
      "metadata": {
        "colab": {
          "base_uri": "https://localhost:8080/"
        },
        "id": "jlLoC1QpI6EV",
        "outputId": "8228c737-05ba-4d7b-c644-95721ae3e8b3"
      },
      "execution_count": null,
      "outputs": [
        {
          "output_type": "stream",
          "name": "stdout",
          "text": [
            "tf.Tensor(\n",
            "[[4 4]\n",
            " [7 3]\n",
            " [2 9]\n",
            " [2 9]], shape=(4, 2), dtype=int32)\n"
          ]
        }
      ]
    },
    {
      "cell_type": "code",
      "source": [
        " a_tran = tf.transpose(tensor_as_int)\n",
        " a_tran"
      ],
      "metadata": {
        "colab": {
          "base_uri": "https://localhost:8080/"
        },
        "id": "16LIF_5UJvBm",
        "outputId": "00969d35-0d08-4fce-9b83-20df090676a8"
      },
      "execution_count": null,
      "outputs": [
        {
          "output_type": "execute_result",
          "data": {
            "text/plain": [
              "<tf.Tensor: shape=(2, 4), dtype=int32, numpy=\n",
              "array([[4, 7, 2, 2],\n",
              "       [4, 3, 9, 9]], dtype=int32)>"
            ]
          },
          "metadata": {},
          "execution_count": 12
        }
      ]
    },
    {
      "cell_type": "code",
      "source": [
        "#Matrix multiplication of tensors\n",
        "D = tf.constant([[5,8],[3,9]])\n",
        "\n",
        "#some vector v\n",
        "v = tf.constant([[4],\n",
        "                 [2]])\n",
        "Dv = tf.matmul(D,v)\n",
        "Dv"
      ],
      "metadata": {
        "colab": {
          "base_uri": "https://localhost:8080/"
        },
        "id": "h0F4zfj_Juaj",
        "outputId": "f49a4418-a730-4c19-fa41-4e2e778ea213"
      },
      "execution_count": null,
      "outputs": [
        {
          "output_type": "execute_result",
          "data": {
            "text/plain": [
              "<tf.Tensor: shape=(2, 1), dtype=int32, numpy=\n",
              "array([[36],\n",
              "       [30]], dtype=int32)>"
            ]
          },
          "metadata": {},
          "execution_count": 13
        }
      ]
    },
    {
      "cell_type": "markdown",
      "source": [],
      "metadata": {
        "id": "DY6YNbzYyIrG"
      }
    },
    {
      "cell_type": "code",
      "source": [
        "#Creating an identity matrix\n",
        "A = tf.constant([\n",
        "    [4,9],\n",
        "    [5,6],\n",
        "    [1,8]\n",
        "])\n",
        "rows,columns = A.shape\n",
        "print(\"rows: \",rows,\"columns: \",columns)\n",
        "\n",
        "#Making an identity matrix\n",
        "A_identity = tf.eye(num_rows = rows,\n",
        "                    num_columns = columns,\n",
        "                    dtype = tf.int32)\n",
        "A_identity"
      ],
      "metadata": {
        "colab": {
          "base_uri": "https://localhost:8080/"
        },
        "id": "mqroFjBrK3tt",
        "outputId": "aa592084-df63-402b-b9de-baed3b80cec8"
      },
      "execution_count": null,
      "outputs": [
        {
          "output_type": "stream",
          "name": "stdout",
          "text": [
            "rows:  3 columns:  2\n"
          ]
        },
        {
          "output_type": "execute_result",
          "data": {
            "text/plain": [
              "<tf.Tensor: shape=(3, 2), dtype=int32, numpy=\n",
              "array([[1, 0],\n",
              "       [0, 1],\n",
              "       [0, 0]], dtype=int32)>"
            ]
          },
          "metadata": {},
          "execution_count": 17
        }
      ]
    }
  ]
}